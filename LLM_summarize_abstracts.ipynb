{
 "cells": [
  {
   "cell_type": "code",
   "execution_count": 4,
   "id": "70c595c3-3d37-4e6e-ba2e-9cc56d81952a",
   "metadata": {},
   "outputs": [
    {
     "data": {
      "application/vnd.jupyter.widget-view+json": {
       "model_id": "0c9bf4ca34114701b66ae4dcf7469977",
       "version_major": 2,
       "version_minor": 0
      },
      "text/plain": [
       "config.json:   0%|          | 0.00/1.21k [00:00<?, ?B/s]"
      ]
     },
     "metadata": {},
     "output_type": "display_data"
    },
    {
     "data": {
      "application/vnd.jupyter.widget-view+json": {
       "model_id": "07750d2c3a3e4239b505b011d568f527",
       "version_major": 2,
       "version_minor": 0
      },
      "text/plain": [
       "model.safetensors:   0%|          | 0.00/242M [00:00<?, ?B/s]"
      ]
     },
     "metadata": {},
     "output_type": "display_data"
    },
    {
     "data": {
      "application/vnd.jupyter.widget-view+json": {
       "model_id": "7afe4920cecf4599bc94a8094d705737",
       "version_major": 2,
       "version_minor": 0
      },
      "text/plain": [
       "generation_config.json:   0%|          | 0.00/147 [00:00<?, ?B/s]"
      ]
     },
     "metadata": {},
     "output_type": "display_data"
    },
    {
     "data": {
      "application/vnd.jupyter.widget-view+json": {
       "model_id": "54fb5df5ad164f06a43d86d19f159ab8",
       "version_major": 2,
       "version_minor": 0
      },
      "text/plain": [
       "tokenizer_config.json:   0%|          | 0.00/2.32k [00:00<?, ?B/s]"
      ]
     },
     "metadata": {},
     "output_type": "display_data"
    },
    {
     "data": {
      "application/vnd.jupyter.widget-view+json": {
       "model_id": "c6d6d58f843444fe9b3797931a34e2e4",
       "version_major": 2,
       "version_minor": 0
      },
      "text/plain": [
       "spiece.model:   0%|          | 0.00/792k [00:00<?, ?B/s]"
      ]
     },
     "metadata": {},
     "output_type": "display_data"
    },
    {
     "data": {
      "application/vnd.jupyter.widget-view+json": {
       "model_id": "52e50a76cf9547e0acbfd31b93a8e53f",
       "version_major": 2,
       "version_minor": 0
      },
      "text/plain": [
       "tokenizer.json:   0%|          | 0.00/1.39M [00:00<?, ?B/s]"
      ]
     },
     "metadata": {},
     "output_type": "display_data"
    },
    {
     "name": "stderr",
     "output_type": "stream",
     "text": [
      "Your max_length is set to 100, but your input_length is only 82. Since this is a summarization task, where outputs shorter than the input are typically wanted, you might consider decreasing max_length manually, e.g. summarizer('...', max_length=41)\n"
     ]
    },
    {
     "name": "stdout",
     "output_type": "stream",
     "text": [
      "Summary: the study investigates the role of dust in regulating star formation rates in galaxies . the findings suggest that dust plays a crucial role in shielding molecular gas from UV radiation .\n"
     ]
    }
   ],
   "source": [
    "from transformers import pipeline\n",
    "\n",
    "# Load a pre-trained summarization model\n",
    "summarizer = pipeline(\"summarization\", model=\"t5-small\")\n",
    "\n",
    "def summarize_abstract(abstract_text):\n",
    "    # Summarize the abstract\n",
    "    summary = summarizer(abstract_text, max_length=100, min_length=30, do_sample=False)\n",
    "    return summary[0]['summary_text']\n",
    "\n",
    "# Example abstract\n",
    "abstract = \"\"\"\n",
    "The study investigates the role of dust in regulating star formation rates in galaxies. Using observations from \n",
    "the Hubble Space Telescope and simulations, we quantify the relationship between dust content and stellar \n",
    "population growth. The findings suggest that dust plays a crucial role in shielding molecular gas from UV \n",
    "radiation, thereby promoting star formation in certain galactic environments.\n",
    "\"\"\"\n",
    "\n",
    "# Generate summary\n",
    "summary = summarize_abstract(abstract)\n",
    "print(\"Summary:\", summary)\n"
   ]
  },
  {
   "cell_type": "markdown",
   "id": "b2148038-4040-4167-a36d-eea44fde8e59",
   "metadata": {},
   "source": [
    "### Add an Interface with Streamlit"
   ]
  },
  {
   "cell_type": "code",
   "execution_count": 5,
   "id": "e13b9c99-68c7-4ee6-95c1-7f5a9e698e4a",
   "metadata": {},
   "outputs": [
    {
     "name": "stderr",
     "output_type": "stream",
     "text": [
      "2025-01-21 12:49:02.760 WARNING streamlit.runtime.scriptrunner_utils.script_run_context: Thread 'MainThread': missing ScriptRunContext! This warning can be ignored when running in bare mode.\n",
      "2025-01-21 12:49:02.827 \n",
      "  \u001b[33m\u001b[1mWarning:\u001b[0m to view this Streamlit app on a browser, run it with the following\n",
      "  command:\n",
      "\n",
      "    streamlit run /opt/anaconda3/lib/python3.8/site-packages/ipykernel_launcher.py [ARGUMENTS]\n",
      "2025-01-21 12:49:02.827 Thread 'MainThread': missing ScriptRunContext! This warning can be ignored when running in bare mode.\n",
      "2025-01-21 12:49:02.828 Thread 'MainThread': missing ScriptRunContext! This warning can be ignored when running in bare mode.\n",
      "2025-01-21 12:49:02.829 Thread 'MainThread': missing ScriptRunContext! This warning can be ignored when running in bare mode.\n",
      "2025-01-21 12:49:02.830 Thread 'MainThread': missing ScriptRunContext! This warning can be ignored when running in bare mode.\n",
      "2025-01-21 12:49:02.830 Thread 'MainThread': missing ScriptRunContext! This warning can be ignored when running in bare mode.\n",
      "2025-01-21 12:49:02.831 Session state does not function when running a script without `streamlit run`\n",
      "2025-01-21 12:49:02.831 Thread 'MainThread': missing ScriptRunContext! This warning can be ignored when running in bare mode.\n",
      "2025-01-21 12:49:02.832 Thread 'MainThread': missing ScriptRunContext! This warning can be ignored when running in bare mode.\n",
      "2025-01-21 12:49:02.833 Thread 'MainThread': missing ScriptRunContext! This warning can be ignored when running in bare mode.\n",
      "2025-01-21 12:49:02.834 Thread 'MainThread': missing ScriptRunContext! This warning can be ignored when running in bare mode.\n",
      "2025-01-21 12:49:02.836 Thread 'MainThread': missing ScriptRunContext! This warning can be ignored when running in bare mode.\n",
      "2025-01-21 12:49:02.836 Thread 'MainThread': missing ScriptRunContext! This warning can be ignored when running in bare mode.\n",
      "2025-01-21 12:49:02.837 Thread 'MainThread': missing ScriptRunContext! This warning can be ignored when running in bare mode.\n"
     ]
    }
   ],
   "source": [
    "import streamlit as st\n",
    "\n",
    "# Title of the app\n",
    "st.title(\"Research Abstract Summarizer\")\n",
    "\n",
    "# Text input for the abstract\n",
    "abstract_input = st.text_area(\"Enter Research Abstract\", height=200)\n",
    "\n",
    "if st.button(\"Summarize\"):\n",
    "    if abstract_input.strip():\n",
    "        with st.spinner(\"Generating summary...\"):\n",
    "            summary = summarize_abstract(abstract_input)\n",
    "            st.subheader(\"Summary\")\n",
    "            st.write(summary)\n",
    "    else:\n",
    "        st.warning(\"Please enter an abstract.\")\n"
   ]
  },
  {
   "cell_type": "markdown",
   "id": "22179bd5-53e6-409c-92d0-5f0f5a362cc9",
   "metadata": {},
   "source": [
    "### Add Extraction Capability"
   ]
  },
  {
   "cell_type": "code",
   "execution_count": 12,
   "id": "4d2f24cd-2810-4fd9-9579-25164022c441",
   "metadata": {},
   "outputs": [],
   "source": [
    "from PyPDF2 import PdfFileReader\n",
    "\n",
    "def extract_abstract_from_pdf(pdf_path):\n",
    "    with open(pdf_path, \"rb\") as file:\n",
    "        reader = PdfFileReader(file)\n",
    "        num_pages = reader.getNumPages()\n",
    "        \n",
    "        # Look through all pages for the abstract section\n",
    "        for page_num in range(num_pages):\n",
    "            page = reader.getPage(page_num)\n",
    "            text = page.extract_text()\n",
    "            if \"Abstract\" in text:\n",
    "                return text.split(\"Abstract\")[1].split(\"\\n\")[0]\n",
    "    return \"Abstract not found.\""
   ]
  },
  {
   "cell_type": "markdown",
   "id": "f789ea60-dcb7-49ed-974f-52dbc644f8e0",
   "metadata": {},
   "source": [
    "### Integrate into the Interface\n",
    "##### Allow users to upload a PDF and extract abstracts for summarization.\n",
    "\n"
   ]
  },
  {
   "cell_type": "code",
   "execution_count": 13,
   "id": "d46ab9e6-1ce0-4a58-8281-f28bedc161c6",
   "metadata": {},
   "outputs": [
    {
     "name": "stderr",
     "output_type": "stream",
     "text": [
      "2025-01-21 13:00:44.842 Thread 'MainThread': missing ScriptRunContext! This warning can be ignored when running in bare mode.\n",
      "2025-01-21 13:00:44.844 Thread 'MainThread': missing ScriptRunContext! This warning can be ignored when running in bare mode.\n",
      "2025-01-21 13:00:44.847 Thread 'MainThread': missing ScriptRunContext! This warning can be ignored when running in bare mode.\n",
      "2025-01-21 13:00:44.849 Thread 'MainThread': missing ScriptRunContext! This warning can be ignored when running in bare mode.\n",
      "2025-01-21 13:00:44.850 Thread 'MainThread': missing ScriptRunContext! This warning can be ignored when running in bare mode.\n"
     ]
    }
   ],
   "source": [
    "uploaded_file = st.file_uploader(\"Upload Research Paper (PDF)\", type=\"pdf\")\n",
    "\n",
    "if uploaded_file is not None:\n",
    "    with st.spinner(\"Extracting abstract...\"):\n",
    "        abstract_text = extract_abstract_from_pdf(uploaded_file)\n",
    "        st.subheader(\"Extracted Abstract\")\n",
    "        st.write(abstract_text)\n",
    "        if st.button(\"Summarize Abstract\"):\n",
    "            summary = summarize_abstract(abstract_text)\n",
    "            st.subheader(\"Summary\")\n",
    "            st.write(summary)\n"
   ]
  },
  {
   "cell_type": "code",
   "execution_count": null,
   "id": "2d2543e0-4302-4634-abbf-ae2bc66b384b",
   "metadata": {},
   "outputs": [],
   "source": []
  }
 ],
 "metadata": {
  "kernelspec": {
   "display_name": "Python 3 (ipykernel)",
   "language": "python",
   "name": "python3"
  },
  "language_info": {
   "codemirror_mode": {
    "name": "ipython",
    "version": 3
   },
   "file_extension": ".py",
   "mimetype": "text/x-python",
   "name": "python",
   "nbconvert_exporter": "python",
   "pygments_lexer": "ipython3",
   "version": "3.8.18"
  },
  "widgets": {
   "application/vnd.jupyter.widget-state+json": {
    "state": {
     "04519d8c0bdc4a40bf419dda6b200326": {
      "model_module": "@jupyter-widgets/base",
      "model_module_version": "2.0.0",
      "model_name": "LayoutModel",
      "state": {}
     },
     "07750d2c3a3e4239b505b011d568f527": {
      "model_module": "@jupyter-widgets/controls",
      "model_module_version": "2.0.0",
      "model_name": "HBoxModel",
      "state": {
       "children": [
        "IPY_MODEL_8290c60a538f4ec6b2bd9347fb8ead32",
        "IPY_MODEL_b03a301a134b4d44b8b20c3613684f9e",
        "IPY_MODEL_1278d7a16db043e6a43a0acce7593960"
       ],
       "layout": "IPY_MODEL_d94035f0aa4748d0930bf42fd42272a3"
      }
     },
     "08348b085a4d45c8890d24cbf3ba894f": {
      "model_module": "@jupyter-widgets/base",
      "model_module_version": "2.0.0",
      "model_name": "LayoutModel",
      "state": {}
     },
     "0c9bf4ca34114701b66ae4dcf7469977": {
      "model_module": "@jupyter-widgets/controls",
      "model_module_version": "2.0.0",
      "model_name": "HBoxModel",
      "state": {
       "children": [
        "IPY_MODEL_ea7ffde568d24fb690effc8f5938cc9a",
        "IPY_MODEL_e611606249b74e3e9887c3e2f5cd0e91",
        "IPY_MODEL_dc56a8546301453583275cfb1aff11df"
       ],
       "layout": "IPY_MODEL_6b9e7f627a56421fb73e64432bc9a0eb"
      }
     },
     "0ec99e84ff3b48ebabd8cbb83d99514a": {
      "model_module": "@jupyter-widgets/controls",
      "model_module_version": "2.0.0",
      "model_name": "HTMLStyleModel",
      "state": {
       "description_width": "",
       "font_size": null,
       "text_color": null
      }
     },
     "1278d7a16db043e6a43a0acce7593960": {
      "model_module": "@jupyter-widgets/controls",
      "model_module_version": "2.0.0",
      "model_name": "HTMLModel",
      "state": {
       "layout": "IPY_MODEL_08348b085a4d45c8890d24cbf3ba894f",
       "style": "IPY_MODEL_dc7930456105418ab7e3d48020d86f90",
       "value": " 242M/242M [00:14&lt;00:00, 22.6MB/s]"
      }
     },
     "12bffc4c81564261b8f5ac85f32f8413": {
      "model_module": "@jupyter-widgets/base",
      "model_module_version": "2.0.0",
      "model_name": "LayoutModel",
      "state": {}
     },
     "1ad8a72a006940ba8b7dcc46f175374a": {
      "model_module": "@jupyter-widgets/base",
      "model_module_version": "2.0.0",
      "model_name": "LayoutModel",
      "state": {}
     },
     "1b16f6afeb9e40158148aa1313c9efe0": {
      "model_module": "@jupyter-widgets/controls",
      "model_module_version": "2.0.0",
      "model_name": "FloatProgressModel",
      "state": {
       "bar_style": "success",
       "layout": "IPY_MODEL_2c73b8b12b114dcbb840cc8b1432237a",
       "max": 2324,
       "style": "IPY_MODEL_d7cfb53436934f0980ff81b3228fadaa",
       "value": 2324
      }
     },
     "2131aac8b8814b45953f650eeb2b2e62": {
      "model_module": "@jupyter-widgets/base",
      "model_module_version": "2.0.0",
      "model_name": "LayoutModel",
      "state": {}
     },
     "23b6f89f9a7c46639488c3b14d92813c": {
      "model_module": "@jupyter-widgets/controls",
      "model_module_version": "2.0.0",
      "model_name": "HTMLModel",
      "state": {
       "layout": "IPY_MODEL_59e397d056a54660a4408298fe0afa3c",
       "style": "IPY_MODEL_656c43e623474a7f895b8042534a6860",
       "value": " 1.39M/1.39M [00:00&lt;00:00, 8.58MB/s]"
      }
     },
     "245b6de7c7ef4e56aab9186d47abfaad": {
      "model_module": "@jupyter-widgets/controls",
      "model_module_version": "2.0.0",
      "model_name": "ProgressStyleModel",
      "state": {
       "description_width": ""
      }
     },
     "24fa2208fbfd40378ff504e586147cef": {
      "model_module": "@jupyter-widgets/base",
      "model_module_version": "2.0.0",
      "model_name": "LayoutModel",
      "state": {}
     },
     "2bc70513cca14db8af5f1e36ef9ae24b": {
      "model_module": "@jupyter-widgets/controls",
      "model_module_version": "2.0.0",
      "model_name": "HTMLStyleModel",
      "state": {
       "description_width": "",
       "font_size": null,
       "text_color": null
      }
     },
     "2c73b8b12b114dcbb840cc8b1432237a": {
      "model_module": "@jupyter-widgets/base",
      "model_module_version": "2.0.0",
      "model_name": "LayoutModel",
      "state": {}
     },
     "4433a02377a7433ab59a80844c4d9c29": {
      "model_module": "@jupyter-widgets/controls",
      "model_module_version": "2.0.0",
      "model_name": "HTMLStyleModel",
      "state": {
       "description_width": "",
       "font_size": null,
       "text_color": null
      }
     },
     "4482b5f0276f473686589d9739638b6c": {
      "model_module": "@jupyter-widgets/controls",
      "model_module_version": "2.0.0",
      "model_name": "HTMLStyleModel",
      "state": {
       "description_width": "",
       "font_size": null,
       "text_color": null
      }
     },
     "473b453aec5c4ec0b352d64140b4ee88": {
      "model_module": "@jupyter-widgets/controls",
      "model_module_version": "2.0.0",
      "model_name": "HTMLStyleModel",
      "state": {
       "description_width": "",
       "font_size": null,
       "text_color": null
      }
     },
     "4990524b2a754f4199059940a61f5f5c": {
      "model_module": "@jupyter-widgets/base",
      "model_module_version": "2.0.0",
      "model_name": "LayoutModel",
      "state": {}
     },
     "51f57cc8689a4ef59be4d12f65490384": {
      "model_module": "@jupyter-widgets/controls",
      "model_module_version": "2.0.0",
      "model_name": "HTMLStyleModel",
      "state": {
       "description_width": "",
       "font_size": null,
       "text_color": null
      }
     },
     "52e50a76cf9547e0acbfd31b93a8e53f": {
      "model_module": "@jupyter-widgets/controls",
      "model_module_version": "2.0.0",
      "model_name": "HBoxModel",
      "state": {
       "children": [
        "IPY_MODEL_69b41392a4f5438198987d13445011dc",
        "IPY_MODEL_6711b00d096d4e4da712b4138f0cc0b1",
        "IPY_MODEL_23b6f89f9a7c46639488c3b14d92813c"
       ],
       "layout": "IPY_MODEL_f0dbb555f13f46f0b378a937a1e0abc6"
      }
     },
     "5330736b52e34f06b5eb46826c82885e": {
      "model_module": "@jupyter-widgets/controls",
      "model_module_version": "2.0.0",
      "model_name": "HTMLModel",
      "state": {
       "layout": "IPY_MODEL_5f8c48004a3b40e4aa3c54b1a899c204",
       "style": "IPY_MODEL_51f57cc8689a4ef59be4d12f65490384",
       "value": " 792k/792k [00:00&lt;00:00, 2.14MB/s]"
      }
     },
     "5353600715df45d7ace77732ff4adc42": {
      "model_module": "@jupyter-widgets/base",
      "model_module_version": "2.0.0",
      "model_name": "LayoutModel",
      "state": {}
     },
     "54fb5df5ad164f06a43d86d19f159ab8": {
      "model_module": "@jupyter-widgets/controls",
      "model_module_version": "2.0.0",
      "model_name": "HBoxModel",
      "state": {
       "children": [
        "IPY_MODEL_e5c4c815e5ed4cf0bf62d51b520caf31",
        "IPY_MODEL_1b16f6afeb9e40158148aa1313c9efe0",
        "IPY_MODEL_712d7e756b4f44e1bcc3f2f1e9f021d9"
       ],
       "layout": "IPY_MODEL_04519d8c0bdc4a40bf419dda6b200326"
      }
     },
     "59e397d056a54660a4408298fe0afa3c": {
      "model_module": "@jupyter-widgets/base",
      "model_module_version": "2.0.0",
      "model_name": "LayoutModel",
      "state": {}
     },
     "5f8c48004a3b40e4aa3c54b1a899c204": {
      "model_module": "@jupyter-widgets/base",
      "model_module_version": "2.0.0",
      "model_name": "LayoutModel",
      "state": {}
     },
     "656c43e623474a7f895b8042534a6860": {
      "model_module": "@jupyter-widgets/controls",
      "model_module_version": "2.0.0",
      "model_name": "HTMLStyleModel",
      "state": {
       "description_width": "",
       "font_size": null,
       "text_color": null
      }
     },
     "6605cfdd94b743bfb5b5977f6eefe3ca": {
      "model_module": "@jupyter-widgets/base",
      "model_module_version": "2.0.0",
      "model_name": "LayoutModel",
      "state": {}
     },
     "6711b00d096d4e4da712b4138f0cc0b1": {
      "model_module": "@jupyter-widgets/controls",
      "model_module_version": "2.0.0",
      "model_name": "FloatProgressModel",
      "state": {
       "bar_style": "success",
       "layout": "IPY_MODEL_6605cfdd94b743bfb5b5977f6eefe3ca",
       "max": 1389353,
       "style": "IPY_MODEL_245b6de7c7ef4e56aab9186d47abfaad",
       "value": 1389353
      }
     },
     "69b41392a4f5438198987d13445011dc": {
      "model_module": "@jupyter-widgets/controls",
      "model_module_version": "2.0.0",
      "model_name": "HTMLModel",
      "state": {
       "layout": "IPY_MODEL_7be922ecadf246a1b209ecefa3ec5937",
       "style": "IPY_MODEL_4482b5f0276f473686589d9739638b6c",
       "value": "tokenizer.json: 100%"
      }
     },
     "6b9e7f627a56421fb73e64432bc9a0eb": {
      "model_module": "@jupyter-widgets/base",
      "model_module_version": "2.0.0",
      "model_name": "LayoutModel",
      "state": {}
     },
     "6c26d68539d84cdf9e868115002168d6": {
      "model_module": "@jupyter-widgets/controls",
      "model_module_version": "2.0.0",
      "model_name": "FloatProgressModel",
      "state": {
       "bar_style": "success",
       "layout": "IPY_MODEL_759ea97d8362417a8ffa0e7da2304945",
       "max": 147,
       "style": "IPY_MODEL_b7d1d5dd24734772b9854b77983886d3",
       "value": 147
      }
     },
     "6e4d9cc4de1042eba3ab73e72c4306bf": {
      "model_module": "@jupyter-widgets/controls",
      "model_module_version": "2.0.0",
      "model_name": "ProgressStyleModel",
      "state": {
       "description_width": ""
      }
     },
     "6f38763964d44f23b35bdaf0374f0fda": {
      "model_module": "@jupyter-widgets/base",
      "model_module_version": "2.0.0",
      "model_name": "LayoutModel",
      "state": {}
     },
     "712d7e756b4f44e1bcc3f2f1e9f021d9": {
      "model_module": "@jupyter-widgets/controls",
      "model_module_version": "2.0.0",
      "model_name": "HTMLModel",
      "state": {
       "layout": "IPY_MODEL_24fa2208fbfd40378ff504e586147cef",
       "style": "IPY_MODEL_0ec99e84ff3b48ebabd8cbb83d99514a",
       "value": " 2.32k/2.32k [00:00&lt;00:00, 215kB/s]"
      }
     },
     "71c8ebbac1c84bf88742036ca95e6be6": {
      "model_module": "@jupyter-widgets/controls",
      "model_module_version": "2.0.0",
      "model_name": "HTMLStyleModel",
      "state": {
       "description_width": "",
       "font_size": null,
       "text_color": null
      }
     },
     "759ea97d8362417a8ffa0e7da2304945": {
      "model_module": "@jupyter-widgets/base",
      "model_module_version": "2.0.0",
      "model_name": "LayoutModel",
      "state": {}
     },
     "775fa35942a343caa9cf7566db67eeb6": {
      "model_module": "@jupyter-widgets/base",
      "model_module_version": "2.0.0",
      "model_name": "LayoutModel",
      "state": {}
     },
     "788acba4a8434372ad53fd041d85dd62": {
      "model_module": "@jupyter-widgets/controls",
      "model_module_version": "2.0.0",
      "model_name": "HTMLModel",
      "state": {
       "layout": "IPY_MODEL_775fa35942a343caa9cf7566db67eeb6",
       "style": "IPY_MODEL_2bc70513cca14db8af5f1e36ef9ae24b",
       "value": " 147/147 [00:00&lt;00:00, 5.39kB/s]"
      }
     },
     "7afe4920cecf4599bc94a8094d705737": {
      "model_module": "@jupyter-widgets/controls",
      "model_module_version": "2.0.0",
      "model_name": "HBoxModel",
      "state": {
       "children": [
        "IPY_MODEL_bd5d8b97f06e47c3882c195c18bb477e",
        "IPY_MODEL_6c26d68539d84cdf9e868115002168d6",
        "IPY_MODEL_788acba4a8434372ad53fd041d85dd62"
       ],
       "layout": "IPY_MODEL_1ad8a72a006940ba8b7dcc46f175374a"
      }
     },
     "7be922ecadf246a1b209ecefa3ec5937": {
      "model_module": "@jupyter-widgets/base",
      "model_module_version": "2.0.0",
      "model_name": "LayoutModel",
      "state": {}
     },
     "824838584e234fc4af023db8e80333b1": {
      "model_module": "@jupyter-widgets/controls",
      "model_module_version": "2.0.0",
      "model_name": "HTMLStyleModel",
      "state": {
       "description_width": "",
       "font_size": null,
       "text_color": null
      }
     },
     "8290c60a538f4ec6b2bd9347fb8ead32": {
      "model_module": "@jupyter-widgets/controls",
      "model_module_version": "2.0.0",
      "model_name": "HTMLModel",
      "state": {
       "layout": "IPY_MODEL_97a88b3fc5784c34be0925b8d2989f76",
       "style": "IPY_MODEL_d401128b90dd4f21aff49a586a0512d2",
       "value": "model.safetensors: 100%"
      }
     },
     "8b94e7b28a584e9a935faf5d29429f9c": {
      "model_module": "@jupyter-widgets/controls",
      "model_module_version": "2.0.0",
      "model_name": "FloatProgressModel",
      "state": {
       "bar_style": "success",
       "layout": "IPY_MODEL_12bffc4c81564261b8f5ac85f32f8413",
       "max": 791656,
       "style": "IPY_MODEL_d1e0dfadb9cd4020b4af0d2f5d141f86",
       "value": 791656
      }
     },
     "97a88b3fc5784c34be0925b8d2989f76": {
      "model_module": "@jupyter-widgets/base",
      "model_module_version": "2.0.0",
      "model_name": "LayoutModel",
      "state": {}
     },
     "9a00525d8e4241c986883c44494c9ca6": {
      "model_module": "@jupyter-widgets/base",
      "model_module_version": "2.0.0",
      "model_name": "LayoutModel",
      "state": {}
     },
     "a95554000c9942cc8d51d5bfb08987a6": {
      "model_module": "@jupyter-widgets/base",
      "model_module_version": "2.0.0",
      "model_name": "LayoutModel",
      "state": {}
     },
     "ac2250a1008e4e66b4770ef5ccd545b0": {
      "model_module": "@jupyter-widgets/controls",
      "model_module_version": "2.0.0",
      "model_name": "ProgressStyleModel",
      "state": {
       "description_width": ""
      }
     },
     "b03a301a134b4d44b8b20c3613684f9e": {
      "model_module": "@jupyter-widgets/controls",
      "model_module_version": "2.0.0",
      "model_name": "FloatProgressModel",
      "state": {
       "bar_style": "success",
       "layout": "IPY_MODEL_4990524b2a754f4199059940a61f5f5c",
       "max": 242043056,
       "style": "IPY_MODEL_ac2250a1008e4e66b4770ef5ccd545b0",
       "value": 242043056
      }
     },
     "b3757636baf6494ca4c513c1cf2f1cc0": {
      "model_module": "@jupyter-widgets/base",
      "model_module_version": "2.0.0",
      "model_name": "LayoutModel",
      "state": {}
     },
     "b3901f2aaf1246a18cc623242a026aa4": {
      "model_module": "@jupyter-widgets/base",
      "model_module_version": "2.0.0",
      "model_name": "LayoutModel",
      "state": {}
     },
     "b45d2655b6dc48dea5af62d8c77226c9": {
      "model_module": "@jupyter-widgets/controls",
      "model_module_version": "2.0.0",
      "model_name": "HTMLModel",
      "state": {
       "layout": "IPY_MODEL_a95554000c9942cc8d51d5bfb08987a6",
       "style": "IPY_MODEL_71c8ebbac1c84bf88742036ca95e6be6",
       "value": "spiece.model: 100%"
      }
     },
     "b7d1d5dd24734772b9854b77983886d3": {
      "model_module": "@jupyter-widgets/controls",
      "model_module_version": "2.0.0",
      "model_name": "ProgressStyleModel",
      "state": {
       "description_width": ""
      }
     },
     "bd5d8b97f06e47c3882c195c18bb477e": {
      "model_module": "@jupyter-widgets/controls",
      "model_module_version": "2.0.0",
      "model_name": "HTMLModel",
      "state": {
       "layout": "IPY_MODEL_b3757636baf6494ca4c513c1cf2f1cc0",
       "style": "IPY_MODEL_473b453aec5c4ec0b352d64140b4ee88",
       "value": "generation_config.json: 100%"
      }
     },
     "c6d6d58f843444fe9b3797931a34e2e4": {
      "model_module": "@jupyter-widgets/controls",
      "model_module_version": "2.0.0",
      "model_name": "HBoxModel",
      "state": {
       "children": [
        "IPY_MODEL_b45d2655b6dc48dea5af62d8c77226c9",
        "IPY_MODEL_8b94e7b28a584e9a935faf5d29429f9c",
        "IPY_MODEL_5330736b52e34f06b5eb46826c82885e"
       ],
       "layout": "IPY_MODEL_9a00525d8e4241c986883c44494c9ca6"
      }
     },
     "d1e0dfadb9cd4020b4af0d2f5d141f86": {
      "model_module": "@jupyter-widgets/controls",
      "model_module_version": "2.0.0",
      "model_name": "ProgressStyleModel",
      "state": {
       "description_width": ""
      }
     },
     "d401128b90dd4f21aff49a586a0512d2": {
      "model_module": "@jupyter-widgets/controls",
      "model_module_version": "2.0.0",
      "model_name": "HTMLStyleModel",
      "state": {
       "description_width": "",
       "font_size": null,
       "text_color": null
      }
     },
     "d5ceb364f688468db4c667ff61c29f14": {
      "model_module": "@jupyter-widgets/controls",
      "model_module_version": "2.0.0",
      "model_name": "HTMLStyleModel",
      "state": {
       "description_width": "",
       "font_size": null,
       "text_color": null
      }
     },
     "d7cfb53436934f0980ff81b3228fadaa": {
      "model_module": "@jupyter-widgets/controls",
      "model_module_version": "2.0.0",
      "model_name": "ProgressStyleModel",
      "state": {
       "description_width": ""
      }
     },
     "d94035f0aa4748d0930bf42fd42272a3": {
      "model_module": "@jupyter-widgets/base",
      "model_module_version": "2.0.0",
      "model_name": "LayoutModel",
      "state": {}
     },
     "dc56a8546301453583275cfb1aff11df": {
      "model_module": "@jupyter-widgets/controls",
      "model_module_version": "2.0.0",
      "model_name": "HTMLModel",
      "state": {
       "layout": "IPY_MODEL_6f38763964d44f23b35bdaf0374f0fda",
       "style": "IPY_MODEL_4433a02377a7433ab59a80844c4d9c29",
       "value": " 1.21k/1.21k [00:00&lt;00:00, 41.0kB/s]"
      }
     },
     "dc7930456105418ab7e3d48020d86f90": {
      "model_module": "@jupyter-widgets/controls",
      "model_module_version": "2.0.0",
      "model_name": "HTMLStyleModel",
      "state": {
       "description_width": "",
       "font_size": null,
       "text_color": null
      }
     },
     "e5c4c815e5ed4cf0bf62d51b520caf31": {
      "model_module": "@jupyter-widgets/controls",
      "model_module_version": "2.0.0",
      "model_name": "HTMLModel",
      "state": {
       "layout": "IPY_MODEL_2131aac8b8814b45953f650eeb2b2e62",
       "style": "IPY_MODEL_824838584e234fc4af023db8e80333b1",
       "value": "tokenizer_config.json: 100%"
      }
     },
     "e611606249b74e3e9887c3e2f5cd0e91": {
      "model_module": "@jupyter-widgets/controls",
      "model_module_version": "2.0.0",
      "model_name": "FloatProgressModel",
      "state": {
       "bar_style": "success",
       "layout": "IPY_MODEL_b3901f2aaf1246a18cc623242a026aa4",
       "max": 1206,
       "style": "IPY_MODEL_6e4d9cc4de1042eba3ab73e72c4306bf",
       "value": 1206
      }
     },
     "ea7ffde568d24fb690effc8f5938cc9a": {
      "model_module": "@jupyter-widgets/controls",
      "model_module_version": "2.0.0",
      "model_name": "HTMLModel",
      "state": {
       "layout": "IPY_MODEL_5353600715df45d7ace77732ff4adc42",
       "style": "IPY_MODEL_d5ceb364f688468db4c667ff61c29f14",
       "value": "config.json: 100%"
      }
     },
     "f0dbb555f13f46f0b378a937a1e0abc6": {
      "model_module": "@jupyter-widgets/base",
      "model_module_version": "2.0.0",
      "model_name": "LayoutModel",
      "state": {}
     }
    },
    "version_major": 2,
    "version_minor": 0
   }
  }
 },
 "nbformat": 4,
 "nbformat_minor": 5
}
